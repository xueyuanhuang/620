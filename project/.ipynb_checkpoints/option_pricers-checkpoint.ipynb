{
 "cells": [
  {
   "cell_type": "code",
   "execution_count": 1,
   "metadata": {},
   "outputs": [],
   "source": [
    "import numpy as np\n",
    "from scipy.stats import norm"
   ]
  },
  {
   "cell_type": "code",
   "execution_count": 2,
   "metadata": {},
   "outputs": [],
   "source": [
    "#BlackScholes\n",
    "\n",
    "\n",
    "def BlackScholesCall(S_0, K, r, sigma, T):\n",
    "    d1 = (np.log(S_0/K)+(r+sigma**2/2)*T) / (sigma*np.sqrt(T))\n",
    "    d2 = d1 - sigma*np.sqrt(T)\n",
    "    \n",
    "    return S_0*norm.cdf(d1) - K*np.exp(-r*T)*norm.cdf(d2)\n",
    "\n",
    "def BlackScholesPut(S_0, K, r, sigma, T):\n",
    "    d1 = (np.log(S_0/K)+(r+sigma**2/2)*T) / (sigma*np.sqrt(T))\n",
    "    d2 = d1 - sigma*np.sqrt(T)\n",
    "    \n",
    "    return K*np.exp(-r*T)*norm.cdf(-d2) - S_0*norm.cdf(-d1)\n",
    "\n",
    "def BlackScholes_DCN_Call(cash, S_0, K, r, sigma, T):\n",
    "    d1 = (np.log(S_0/K)+(r+sigma**2/2)*T) / (sigma*np.sqrt(T))\n",
    "    d2 = d1 - sigma*np.sqrt(T)\n",
    "    return cash*np.exp(-r*T)*norm.cdf(d2)\n",
    "\n",
    "def BlackScholes_DCN_Put(cash, S_0, K, r, sigma, T):\n",
    "    d1 = (np.log(S_0/K)+(r+sigma**2/2)*T) / (sigma*np.sqrt(T))\n",
    "    d2 = d1 - sigma*np.sqrt(T)\n",
    "    return cash*np.exp(-r*T)*norm.cdf(-d2)\n",
    "\n",
    "def BlackScholes_DAN_Call(S_0, K, r, sigma, T):\n",
    "    d1 = (np.log(S_0/K)+(r+sigma**2/2)*T) / (sigma*np.sqrt(T))\n",
    "    d2 = d1 - sigma*np.sqrt(T)\n",
    "    return S_0*norm.cdf(d1)\n",
    "\n",
    "def BlackScholes_DAN_Put(S_0, K, r, sigma, T):\n",
    "    d1 = (np.log(S_0/K)+(r+sigma**2/2)*T) / (sigma*np.sqrt(T))\n",
    "    d2 = d1 - sigma*np.sqrt(T)\n",
    "    return S_0*norm.cdf(-d1)"
   ]
  },
  {
   "cell_type": "code",
   "execution_count": 14,
   "metadata": {},
   "outputs": [],
   "source": [
    "#Bachelier Model\n",
    "\n",
    "def BachelierCall(S_0, K, r, sigma, T):\n",
    "    x = (K-S_0)/(sigma*np.sqrt(T))\n",
    "    \n",
    "    return np.exp(-r*T)*((S_0-K)*norm.cdf(-x) + sigma*np.sqrt(T)*norm.pdf(-x))\n",
    "\n",
    "def BachelierPut(S_0, K, r, sigma, T):\n",
    "    x = (K-S_0)/(sigma*np.sqrt(T))\n",
    "    \n",
    "    return np.exp(-r*T)*((K-S_0)*norm.cdf(x) + sigma*np.sqrt(T)*norm.pdf(x))\n",
    "\n",
    "def Bachelier_DCN_Call(cash ,S_0, K, r, sigma, T):\n",
    "    x = (K-S_0)/(sigma*np.sqrt(T))\n",
    "    \n",
    "    return np.exp(-r*T)*norm.cdf(-x)*cash\n",
    "\n",
    "def Bachelier_DCN_Put(cash ,S_0, K, r, sigma, T):\n",
    "    x = (K-S_0)/(sigma*np.sqrt(T))\n",
    "    \n",
    "    return np.exp(-r*T)*norm.cdf(x)*cash\n",
    "\n",
    "def Bachelier_DAN_Call(S_0, K, r, sigma, T):\n",
    "    x = (K-S_0)/(sigma*np.sqrt(T))\n",
    "    \n",
    "    return np.exp(-r*T)*(S_0*norm.cdf(-x) + sigma*np.sqrt(T)*norm.pdf(-x))\n",
    "\n",
    "def Bachelier_DAN_Put(S_0, K, r, sigma, T):\n",
    "    x = (K-S_0)/(sigma*np.sqrt(T))\n",
    "    \n",
    "    return np.exp(-r*T)*(S_0*norm.cdf(x) - sigma*np.sqrt(T)*norm.pdf(x))\n"
   ]
  },
  {
   "cell_type": "code",
   "execution_count": 4,
   "metadata": {},
   "outputs": [],
   "source": [
    "#Black76\n",
    "\n",
    "def Black76Call(F_0, K, r, sigma, T):\n",
    "    return BlackScholesCall(F_0*np.exp(-r*T), K, r, sigma, T)\n",
    "\n",
    "def Black76Put(F_0, K, r, sigma, T):\n",
    "    return BlackScholesPut(F_0*np.exp(-r*T), K, r, sigma, T)\n",
    "\n",
    "def Black76_DCN_Call(cash ,F_0, K, r, sigma, T):\n",
    "    return BlackScholes_DCN_Call(cash ,F_0*np.exp(-r*T), K, r, sigma, T)\n",
    "\n",
    "def Black76_DCN_Put(cash ,F_0, K, r, sigma, T):\n",
    "    return BlackScholes_DCN_Put(cash ,F_0*np.exp(-r*T), K, r, sigma, T)\n",
    "\n",
    "def Black76_DAN_Call(F_0, K, r, sigma, T):\n",
    "    return BlackScholes_DAN_Call(F_0*np.exp(-r*T), K, r, sigma, T)\n",
    "\n",
    "def Black76_DAN_Put(F_0, K, r, sigma, T):\n",
    "    return BlackScholes_DAN_Put(F_0*np.exp(-r*T), K, r, sigma, T)"
   ]
  },
  {
   "cell_type": "code",
   "execution_count": 5,
   "metadata": {},
   "outputs": [],
   "source": [
    "#Displaced-Diffusion model\n",
    "\n",
    "def DDCall(F_0, K, r, sigma, T, beta):\n",
    "    return Black76Call(F_0/beta, K+((1-beta)/beta)*F_0, r, sigma*beta, T)\n",
    "\n",
    "def DDPut(F_0, K, r, sigma, T, beta):\n",
    "    return Black76Put(F_0/beta, K+((1-beta)/beta)*F_0, r, sigma*beta, T)\n",
    "\n",
    "def DD_DCN_Call(cash, F_0, K, r, sigma, T, beta):\n",
    "    return Black76_DCN_Call(cash, F_0/beta, K+((1-beta)/beta)*F_0, r, sigma*beta, T)\n",
    "\n",
    "def DD_DCN_Put(cash, F_0, K, r, sigma, T, beta):\n",
    "    return Black76_DCN_Put(cash, F_0/beta, K+((1-beta)/beta)*F_0, r, sigma*beta, T)\n",
    "\n",
    "def DD_DAN_Call(F_0, K, r, sigma, T, beta):\n",
    "    return Black76_DAN_Call(F_0/beta, K+((1-beta)/beta)*F_0, r, sigma*beta, T)\n",
    "\n",
    "def DD_DAN_Put(F_0, K, r, sigma, T, beta):\n",
    "    return Black76_DAN_Put(F_0/beta, K+((1-beta)/beta)*F_0, r, sigma*beta, T)\n",
    "\n"
   ]
  },
  {
   "cell_type": "code",
   "execution_count": 6,
   "metadata": {},
   "outputs": [],
   "source": [
    "S_0 = 100\n",
    "F_0=100\n",
    "S = 100\n",
    "K = 150\n",
    "r = 0.1\n",
    "sigma = 0.2\n",
    "T = 20\n",
    "beta = 0.5\n",
    "\n",
    "cash = 1"
   ]
  },
  {
   "cell_type": "code",
   "execution_count": 7,
   "metadata": {},
   "outputs": [],
   "source": [
    "def BS(cash, S_0, K, r, sigma, T):\n",
    "    print(f\"BlackScholesCall:{BlackScholesCall(S_0, K, r, sigma, T)}\")\n",
    "    print(f\"BlackScholesPut:{BlackScholesPut(S_0, K, r, sigma, T)}\")\n",
    "    print(f\"BlackScholes_DCN_Call:{BlackScholes_DCN_Call(cash,S_0, K, r, sigma, T)}\")\n",
    "    print(f\"BlackScholes_DCN_Put:{BlackScholes_DCN_Put(cash,S_0, K, r, sigma, T)}\")\n",
    "    print(f\"BlackScholes_DAN_Call:{BlackScholes_DAN_Call(S_0, K, r, sigma, T)}\")\n",
    "    print(f\"BlackScholes_DAN_Put:{BlackScholes_DAN_Put(S_0, K, r, sigma, T)}\")"
   ]
  },
  {
   "cell_type": "code",
   "execution_count": 8,
   "metadata": {},
   "outputs": [
    {
     "name": "stdout",
     "output_type": "stream",
     "text": [
      "BlackScholesCall:80.25650471103204\n",
      "BlackScholesPut:0.5567971965239404\n",
      "BlackScholes_DCN_Call:0.12303988708734406\n",
      "BlackScholes_DCN_Put:0.012295396149268636\n",
      "BlackScholes_DAN_Call:98.71248777413365\n",
      "BlackScholes_DAN_Put:1.287512225866355\n"
     ]
    }
   ],
   "source": [
    "BS(cash, S_0, K, r, sigma, T)"
   ]
  },
  {
   "cell_type": "code",
   "execution_count": 9,
   "metadata": {},
   "outputs": [],
   "source": [
    "def Bachelier(cash, S_0, K, r, sigma, T):\n",
    "    print(f\"Call:{BachelierCall(S_0, K, r, sigma, T)}\")\n",
    "    print(f\"Put:{BachelierPut(S_0, K, r, sigma, T)}\")\n",
    "    print(f\"DCN_Call:{Bachelier_DCN_Call(cash,S_0, K, r, sigma, T)}\")\n",
    "    print(f\"DCN_Put:{Bachelier_DCN_Put(cash,S_0, K, r, sigma, T)}\")\n",
    "    print(f\"DAN_Call:{Bachelier_DAN_Call(S_0, K, r, sigma, T)}\")\n",
    "    print(f\"DAN_Put:{Bachelier_DAN_Put(S_0, K, r, sigma, T)}\")"
   ]
  },
  {
   "cell_type": "code",
   "execution_count": 15,
   "metadata": {},
   "outputs": [
    {
     "name": "stdout",
     "output_type": "stream",
     "text": [
      "Call:0.0\n",
      "Put:6.766764161830635\n",
      "DCN_Call:0.0\n",
      "DCN_Put:0.1353352832366127\n",
      "DAN_Call:0.0\n",
      "DAN_Put:13.53352832366127\n"
     ]
    }
   ],
   "source": [
    "Bachelier(cash, S_0, K, r, sigma, T)"
   ]
  },
  {
   "cell_type": "code",
   "execution_count": 16,
   "metadata": {},
   "outputs": [],
   "source": [
    "def Black76(cash, S_0, K, r, sigma, T):\n",
    "    print(f\"Call:{Black76Call(S_0, K, r, sigma, T)}\")\n",
    "    print(f\"Put:{Black76Put(S_0, K, r, sigma, T)}\")\n",
    "    print(f\"DCN_Call:{Black76_DCN_Call(cash,S_0, K, r, sigma, T)}\")\n",
    "    print(f\"DCN_Put:{Black76_DCN_Put(cash,S_0, K, r, sigma, T)}\")\n",
    "    print(f\"DAN_Call:{Black76_DAN_Call(S_0, K, r, sigma, T)}\")\n",
    "    print(f\"DAN_Put:{Black76_DAN_Put(S_0, K, r, sigma, T)}\")"
   ]
  },
  {
   "cell_type": "code",
   "execution_count": 17,
   "metadata": {},
   "outputs": [
    {
     "name": "stdout",
     "output_type": "stream",
     "text": [
      "Call:3.0002025010358047\n",
      "Put:9.76696666286644\n",
      "DCN_Call:0.02489048287969266\n",
      "DCN_Put:0.11044480035692004\n",
      "DAN_Call:6.733774932989704\n",
      "DAN_Put:6.799753390671566\n"
     ]
    }
   ],
   "source": [
    "Black76(cash, S_0, K, r, sigma, T)"
   ]
  },
  {
   "cell_type": "code",
   "execution_count": 18,
   "metadata": {},
   "outputs": [],
   "source": [
    "def DD(cash, S_0, K, r, sigma, T, beta):\n",
    "    print(f\"Call:{DDCall(S_0, K, r, sigma, T, beta)}\")\n",
    "    print(f\"Put:{DDPut(S_0, K, r, sigma, T, beta)}\")\n",
    "    print(f\"DCN_Call:{DD_DCN_Call(cash,S_0, K, r, sigma, T, beta)}\")\n",
    "    print(f\"DCN_Put:{DD_DCN_Put(cash,S_0, K, r, sigma, T, beta)}\")\n",
    "    print(f\"DAN_Call:{DD_DAN_Call(S_0, K, r, sigma, T, beta)}\")\n",
    "    print(f\"DAN_Put:{DD_DAN_Put(S_0, K, r, sigma, T, beta)}\")"
   ]
  },
  {
   "cell_type": "code",
   "execution_count": 19,
   "metadata": {},
   "outputs": [
    {
     "name": "stdout",
     "output_type": "stream",
     "text": [
      "Call:2.6473246419619123\n",
      "Put:9.414088803792545\n",
      "DCN_Call:0.031799969880370135\n",
      "DCN_Put:0.10353531335624257\n",
      "DAN_Call:10.597317112054446\n",
      "DAN_Put:16.469739535268097\n"
     ]
    }
   ],
   "source": [
    "DD(cash, S_0, K, r, sigma, T, beta)"
   ]
  },
  {
   "cell_type": "code",
   "execution_count": 22,
   "metadata": {},
   "outputs": [],
   "source": [
    "def Black76Put1(F_0, K, r, sigma, T):\n",
    "    d1 = (np.log(K/F_0) + (sigma**2)*T/2)/(sigma*np.sqrt(T))\n",
    "    d2 = d1 - sigma*np.sqrt(T)\n",
    "    return np.exp(-r*T)*(K*norm.cdf(d1)-F_0*norm.cdf(d2))"
   ]
  },
  {
   "cell_type": "code",
   "execution_count": 24,
   "metadata": {},
   "outputs": [
    {
     "data": {
      "text/plain": [
       "9.766966662866444"
      ]
     },
     "execution_count": 24,
     "metadata": {},
     "output_type": "execute_result"
    }
   ],
   "source": [
    "Black76Put1(F_0, K, r, sigma, T)"
   ]
  },
  {
   "cell_type": "code",
   "execution_count": 25,
   "metadata": {},
   "outputs": [],
   "source": [
    "def Black76Call1(F_0, K, r, sigma, T):\n",
    "    d1 = (np.log(K/F_0) + (sigma**2)*T/2)/(sigma*np.sqrt(T))\n",
    "    d2 = d1 - sigma*np.sqrt(T)\n",
    "    return np.exp(-r*T)*(F_0*norm.cdf(-d2)-K*norm.cdf(-d1))"
   ]
  },
  {
   "cell_type": "code",
   "execution_count": 26,
   "metadata": {},
   "outputs": [
    {
     "data": {
      "text/plain": [
       "3.000202501035806"
      ]
     },
     "execution_count": 26,
     "metadata": {},
     "output_type": "execute_result"
    }
   ],
   "source": [
    "Black76Call1(F_0, K, r, sigma, T)"
   ]
  },
  {
   "cell_type": "code",
   "execution_count": 27,
   "metadata": {},
   "outputs": [],
   "source": [
    "def Black76_DCN_Call1(cash,F_0, K, r, sigma, T):\n",
    "    d1 = (np.log(K/F_0) + (sigma**2)*T/2)/(sigma*np.sqrt(T))\n",
    "    d2 = d1 - sigma*np.sqrt(T)\n",
    "    return np.exp(-r*T)*norm.cdf(-d1)"
   ]
  },
  {
   "cell_type": "code",
   "execution_count": 28,
   "metadata": {},
   "outputs": [
    {
     "data": {
      "text/plain": [
       "0.024890482879692623"
      ]
     },
     "execution_count": 28,
     "metadata": {},
     "output_type": "execute_result"
    }
   ],
   "source": [
    "Black76_DCN_Call1(cash,F_0, K, r, sigma, T)"
   ]
  },
  {
   "cell_type": "code",
   "execution_count": null,
   "metadata": {},
   "outputs": [],
   "source": []
  }
 ],
 "metadata": {
  "kernelspec": {
   "display_name": "Python 3 (ipykernel)",
   "language": "python",
   "name": "python3"
  },
  "language_info": {
   "codemirror_mode": {
    "name": "ipython",
    "version": 3
   },
   "file_extension": ".py",
   "mimetype": "text/x-python",
   "name": "python",
   "nbconvert_exporter": "python",
   "pygments_lexer": "ipython3",
   "version": "3.11.3"
  }
 },
 "nbformat": 4,
 "nbformat_minor": 2
}
